{
 "cells": [
  {
   "cell_type": "code",
   "execution_count": null,
   "metadata": {},
   "outputs": [],
   "source": [
    "%load_ext jupyter_black\n",
    "%load_ext autoreload\n",
    "%autoreload 2"
   ]
  },
  {
   "cell_type": "code",
   "execution_count": null,
   "metadata": {},
   "outputs": [],
   "source": [
    "import sys\n",
    "\n",
    "sys.path.append(\"..\")"
   ]
  },
  {
   "attachments": {},
   "cell_type": "markdown",
   "metadata": {},
   "source": [
    "## Modeling"
   ]
  },
  {
   "cell_type": "code",
   "execution_count": null,
   "metadata": {},
   "outputs": [],
   "source": [
    "import pandas as pd\n",
    "from utils.utils import set_seed\n",
    "\n",
    "set_seed()"
   ]
  },
  {
   "attachments": {},
   "cell_type": "markdown",
   "metadata": {},
   "source": [
    "### Load data"
   ]
  },
  {
   "cell_type": "code",
   "execution_count": null,
   "metadata": {},
   "outputs": [],
   "source": [
    "ds_train = pd.read_csv(\"../data/avila/avila-tr.txt\", header=None)\n",
    "ds_test = pd.read_csv(\"../data/avila/avila-ts.txt\", header=None)"
   ]
  },
  {
   "attachments": {},
   "cell_type": "markdown",
   "metadata": {},
   "source": [
    "### Models"
   ]
  },
  {
   "cell_type": "code",
   "execution_count": null,
   "metadata": {},
   "outputs": [],
   "source": [
    "# KNN\n",
    "from sklearn.neighbors import KNeighborsClassifier\n",
    "\n",
    "# LVQ\n",
    "from sklvq import GLVQ\n",
    "\n",
    "# SVM\n",
    "from sklearn.svm import SVC\n",
    "\n",
    "# Decision Tree\n",
    "from sklearn.tree import DecisionTreeClassifier\n",
    "\n",
    "# Random Forest\n",
    "from sklearn.ensemble import RandomForestClassifier\n",
    "\n",
    "# XGBoost\n",
    "from xgboost import XGBClassifier\n",
    "\n",
    "# MLP\n",
    "from sklearn.neural_network import MLPClassifier"
   ]
  },
  {
   "attachments": {},
   "cell_type": "markdown",
   "metadata": {},
   "source": [
    "### Training"
   ]
  },
  {
   "cell_type": "code",
   "execution_count": null,
   "metadata": {},
   "outputs": [],
   "source": [
    "!jupyter nbextension enable --py widgetsnbextension"
   ]
  },
  {
   "cell_type": "code",
   "execution_count": null,
   "metadata": {},
   "outputs": [],
   "source": [
    "# Metrics\n",
    "from sklearn.metrics import accuracy_score, precision_score, f1_score, recall_score\n",
    "\n",
    "# import label encoder\n",
    "from sklearn.preprocessing import LabelEncoder\n",
    "\n",
    "\n",
    "# Compute metrics\n",
    "def compute_metrics(y_true, y_pred):\n",
    "    return {\n",
    "        \"accuracy\": accuracy_score(y_true, y_pred),\n",
    "        \"precision\": precision_score(y_true, y_pred, average=\"macro\", zero_division=1),\n",
    "        \"recall\": recall_score(y_true, y_pred, average=\"macro\", zero_division=1),\n",
    "        \"f1\": f1_score(y_true, y_pred, average=\"macro\", zero_division=1),\n",
    "    }\n",
    "\n",
    "\n",
    "# Split data\n",
    "X_train = ds_train.iloc[:, :-1]\n",
    "y_train = ds_train.iloc[:, -1]\n",
    "X_test = ds_test.iloc[:, :-1]\n",
    "y_test = ds_test.iloc[:, -1]\n",
    "\n",
    "label_encoder = LabelEncoder().fit(y_train)\n",
    "# y_train = label_encoder.transform(y_train)\n",
    "# y_test = label_encoder.transform(y_test)\n",
    "\n",
    "# Define models to train\n",
    "models = [\n",
    "    KNeighborsClassifier(),\n",
    "    GLVQ(),\n",
    "    SVC(),\n",
    "    DecisionTreeClassifier(),\n",
    "    RandomForestClassifier(),\n",
    "    XGBClassifier(),\n",
    "    MLPClassifier(),\n",
    "]"
   ]
  },
  {
   "cell_type": "code",
   "execution_count": 11,
   "metadata": {},
   "outputs": [
    {
     "name": "stdout",
     "output_type": "stream",
     "text": [
      "Training model:  KNeighborsClassifier\n",
      "Training model:  GLVQ\n",
      "Training model:  SVC\n",
      "Training model:  DecisionTreeClassifier\n",
      "Training model:  RandomForestClassifier\n",
      "Training model:  XGBClassifier\n",
      "Training model:  MLPClassifier\n",
      "CPU times: total: 34 s\n",
      "Wall time: 34 s\n"
     ]
    },
    {
     "name": "stderr",
     "output_type": "stream",
     "text": [
      "c:\\Users\\Matheus\\Documents\\Git\\machine_learning_ufpe_2023_2\\venv\\lib\\site-packages\\sklearn\\neural_network\\_multilayer_perceptron.py:686: ConvergenceWarning: Stochastic Optimizer: Maximum iterations (200) reached and the optimization hasn't converged yet.\n",
      "  warnings.warn(\n"
     ]
    }
   ],
   "source": [
    "%%time\n",
    "\n",
    "models_results = {model.__class__.__name__: {} for model in models}\n",
    "\n",
    "for model in models:\n",
    "    print(\"Training model: \", model.__class__.__name__)\n",
    "    model.fit(X_train, y_train)\n",
    "    metrics = compute_metrics(y_test, model.predict(X_test))\n",
    "    models_results[model.__class__.__name__] = metrics"
   ]
  },
  {
   "cell_type": "code",
   "execution_count": 12,
   "metadata": {},
   "outputs": [
    {
     "data": {
      "text/html": [
       "<div>\n",
       "<style scoped>\n",
       "    .dataframe tbody tr th:only-of-type {\n",
       "        vertical-align: middle;\n",
       "    }\n",
       "\n",
       "    .dataframe tbody tr th {\n",
       "        vertical-align: top;\n",
       "    }\n",
       "\n",
       "    .dataframe thead th {\n",
       "        text-align: right;\n",
       "    }\n",
       "</style>\n",
       "<table border=\"1\" class=\"dataframe\">\n",
       "  <thead>\n",
       "    <tr style=\"text-align: right;\">\n",
       "      <th></th>\n",
       "      <th>accuracy</th>\n",
       "      <th>precision</th>\n",
       "      <th>recall</th>\n",
       "      <th>f1</th>\n",
       "    </tr>\n",
       "  </thead>\n",
       "  <tbody>\n",
       "    <tr>\n",
       "      <th>KNeighborsClassifier</th>\n",
       "      <td>0.749545</td>\n",
       "      <td>0.809206</td>\n",
       "      <td>0.665667</td>\n",
       "      <td>0.718285</td>\n",
       "    </tr>\n",
       "    <tr>\n",
       "      <th>GLVQ</th>\n",
       "      <td>0.529462</td>\n",
       "      <td>0.389300</td>\n",
       "      <td>0.408313</td>\n",
       "      <td>0.353025</td>\n",
       "    </tr>\n",
       "    <tr>\n",
       "      <th>SVC</th>\n",
       "      <td>0.674523</td>\n",
       "      <td>0.820989</td>\n",
       "      <td>0.532343</td>\n",
       "      <td>0.569366</td>\n",
       "    </tr>\n",
       "    <tr>\n",
       "      <th>DecisionTreeClassifier</th>\n",
       "      <td>0.969436</td>\n",
       "      <td>0.951906</td>\n",
       "      <td>0.964925</td>\n",
       "      <td>0.957916</td>\n",
       "    </tr>\n",
       "    <tr>\n",
       "      <th>RandomForestClassifier</th>\n",
       "      <td>0.982658</td>\n",
       "      <td>0.989757</td>\n",
       "      <td>0.979907</td>\n",
       "      <td>0.984751</td>\n",
       "    </tr>\n",
       "    <tr>\n",
       "      <th>XGBClassifier</th>\n",
       "      <td>0.881958</td>\n",
       "      <td>0.943424</td>\n",
       "      <td>0.904685</td>\n",
       "      <td>0.921704</td>\n",
       "    </tr>\n",
       "    <tr>\n",
       "      <th>MLPClassifier</th>\n",
       "      <td>0.791607</td>\n",
       "      <td>0.836781</td>\n",
       "      <td>0.778383</td>\n",
       "      <td>0.798748</td>\n",
       "    </tr>\n",
       "  </tbody>\n",
       "</table>\n",
       "</div>"
      ],
      "text/plain": [
       "                        accuracy  precision    recall        f1\n",
       "KNeighborsClassifier    0.749545   0.809206  0.665667  0.718285\n",
       "GLVQ                    0.529462   0.389300  0.408313  0.353025\n",
       "SVC                     0.674523   0.820989  0.532343  0.569366\n",
       "DecisionTreeClassifier  0.969436   0.951906  0.964925  0.957916\n",
       "RandomForestClassifier  0.982658   0.989757  0.979907  0.984751\n",
       "XGBClassifier           0.881958   0.943424  0.904685  0.921704\n",
       "MLPClassifier           0.791607   0.836781  0.778383  0.798748"
      ]
     },
     "execution_count": 12,
     "metadata": {},
     "output_type": "execute_result"
    }
   ],
   "source": [
    "models_results = pd.DataFrame(models_results).T\n",
    "models_results"
   ]
  },
  {
   "cell_type": "code",
   "execution_count": null,
   "metadata": {},
   "outputs": [],
   "source": []
  }
 ],
 "metadata": {
  "kernelspec": {
   "display_name": "venv",
   "language": "python",
   "name": "python3"
  },
  "language_info": {
   "codemirror_mode": {
    "name": "ipython",
    "version": 3
   },
   "file_extension": ".py",
   "mimetype": "text/x-python",
   "name": "python",
   "nbconvert_exporter": "python",
   "pygments_lexer": "ipython3",
   "version": "3.10.9"
  },
  "orig_nbformat": 4
 },
 "nbformat": 4,
 "nbformat_minor": 2
}
